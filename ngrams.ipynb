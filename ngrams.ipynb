{
  "nbformat": 4,
  "nbformat_minor": 0,
  "metadata": {
    "colab": {
      "name": "ngrams.ipynb",
      "provenance": [],
      "collapsed_sections": [],
      "authorship_tag": "ABX9TyPCA9JvNwHLktmQb+lcYzh4",
      "include_colab_link": true
    },
    "kernelspec": {
      "name": "python3",
      "display_name": "Python 3"
    },
    "language_info": {
      "name": "python"
    }
  },
  "cells": [
    {
      "cell_type": "markdown",
      "metadata": {
        "id": "view-in-github",
        "colab_type": "text"
      },
      "source": [
        "<a href=\"https://colab.research.google.com/github/Sylamsh/nlp-practice/blob/main/ngrams.ipynb\" target=\"_parent\"><img src=\"https://colab.research.google.com/assets/colab-badge.svg\" alt=\"Open In Colab\"/></a>"
      ]
    },
    {
      "cell_type": "code",
      "execution_count": 2,
      "metadata": {
        "id": "mEIpbBXG124V"
      },
      "outputs": [],
      "source": [
        "import numpy as np\n",
        "import pandas as pd\n",
        "import string"
      ]
    },
    {
      "cell_type": "code",
      "source": [
        "def make_words(lyrics):\n",
        "  translator = str.maketrans(\"\",\"\", string.punctuation)\n",
        "  lyrics_puntuations = lyrics.translate(translator)\n",
        "  lyrics = lyrics_puntuations.lower().strip()\n",
        "  return lyrics"
      ],
      "metadata": {
        "id": "wREJ8yGV43EP"
      },
      "execution_count": 3,
      "outputs": []
    },
    {
      "cell_type": "code",
      "source": [
        "def generate_sentence(next_word, n):\n",
        "  next_word = next_word.lower()\n",
        "  if uniq_words.count(next_word) == 0:\n",
        "    return \"'\" + next_word + \"' does not exist in the given dataset\"\n",
        "  sentence = next_word\n",
        "  for i in range(0, n):\n",
        "    curr_word = next_word\n",
        "    next_word = df.index[df[curr_word] == max(df[curr_word])][0]\n",
        "    sentence = sentence + ' ' + next_word\n",
        "  return sentence"
      ],
      "metadata": {
        "id": "TrzsakBcQb_x"
      },
      "execution_count": 15,
      "outputs": []
    },
    {
      "cell_type": "code",
      "source": [
        "# train_lyrics = \"\"\"Do you know what's worth fighting for\n",
        "# When it's not worth dying for?\n",
        "# Does it take your breath away\n",
        "# And you feel yourself suffocating?\n",
        "# Does the pain weigh out the pride?\n",
        "# And you look for a place to hide?\n",
        "# Did someone break your heart inside?\n",
        "# You're in ruins\n",
        "# Did you try to live on your own\n",
        "# When you burned down the house and home?\n",
        "# Did you stand too close to the fire?\n",
        "# Like a liar looking for forgiveness from a stone\n",
        "# When it's time to live and let die\n",
        "# And you can't get another try\n",
        "# Something inside this heart has died\n",
        "# You're in ruins\n",
        "# When you're at the end of the road\n",
        "# And you lost all sense of control\n",
        "# And your thoughts have taken their toll\n",
        "# When your mind breaks the spirit of your soul\n",
        "# Your faith walks on broken glass\n",
        "# And the hangover doesn't pass\n",
        "# Nothing's ever built to last\n",
        "# You're in ruins\n",
        "# One, twenty one guns\n",
        "# Lay down your arms\n",
        "# Give up the fight\n",
        "# One, twenty one guns\n",
        "# Throw up your arms into the sky,\n",
        "# You and I\"\"\"\n",
        "train_lyrics=\"\"\"Brain–computer interfaces (BCIs) measure brain activity, extract features from that activity, and convert those features into outputs that replace, restore, enhance, supplement, or improve human functions.\n",
        "BCIs may replace lost functions, such as speaking or moving. They may restore the ability to control the body, such as by stimulating nerves or muscles that move the hand. BCIs have also been used to improve functions, such as training users to improve the remaining function of damaged pathways required to grasp. BCIs can also enhance function, like warning a sleepy driver to wake up. Finally, a BCI might supplement the body’s natural outputs, such as through a third hand.\n",
        "Different techniques are used to measure brain activity for BCIs. Most BCIs have used electrical signals that are detected using electrodes placed invasively within or on the surface of the cortex, or noninvasively on the surface of the scalp [electroencephalography (EEG)]. Some BCIs have been based on metabolic activity that is measured noninvasively, such as through functional magnetic resonance imaging (fMRI).\n",
        "This chapter is focused on providing an overview of noninvasive BCIs. After a brief review of the relevant aspects of EEG and fMRI, each of the subsequent sections is dedicated to one of the four different purposes that a BCI may serve and that have been realized as of this writing.\n",
        "\"\"\""
      ],
      "metadata": {
        "id": "aS_XCO3U4dgo"
      },
      "execution_count": 24,
      "outputs": []
    },
    {
      "cell_type": "code",
      "source": [
        "train_lyrics = make_words(train_lyrics)\n",
        "# test_lyrics, test_words = make_words(test_lyrics)"
      ],
      "metadata": {
        "id": "mLclCKNm7LOW"
      },
      "execution_count": 25,
      "outputs": []
    },
    {
      "cell_type": "code",
      "source": [
        "words = train_lyrics.strip().split()\n",
        "uniq_words = sorted(list(set(words)))\n",
        "df = pd.DataFrame(index=uniq_words)\n",
        "for curr_word in uniq_words:\n",
        "  col = []\n",
        "  for next_word in uniq_words:\n",
        "    col.append(train_lyrics.count(curr_word + ' ' + next_word) / train_lyrics.count(curr_word))\n",
        "  df[curr_word] = col"
      ],
      "metadata": {
        "colab": {
          "base_uri": "https://localhost:8080/"
        },
        "id": "LoRuvQ9IO8KJ",
        "outputId": "2c308684-0b9f-4c68-dd13-e72c822a906d"
      },
      "execution_count": 26,
      "outputs": [
        {
          "output_type": "stream",
          "name": "stderr",
          "text": [
            "/usr/local/lib/python3.7/dist-packages/ipykernel_launcher.py:8: PerformanceWarning: DataFrame is highly fragmented.  This is usually the result of calling `frame.insert` many times, which has poor performance.  Consider joining all columns at once using pd.concat(axis=1) instead.  To get a de-fragmented frame, use `newframe = frame.copy()`\n",
            "  \n"
          ]
        }
      ]
    },
    {
      "cell_type": "code",
      "source": [
        "generate_sentence('BCI', 10)"
      ],
      "metadata": {
        "colab": {
          "base_uri": "https://localhost:8080/",
          "height": 35
        },
        "id": "40Z2tJWMUlf9",
        "outputId": "422e8e18-2167-4190-c823-5346be259a97"
      },
      "execution_count": 32,
      "outputs": [
        {
          "output_type": "execute_result",
          "data": {
            "application/vnd.google.colaboratory.intrinsic+json": {
              "type": "string"
            },
            "text/plain": [
              "'bci may replace lost function like warning a bci may replace'"
            ]
          },
          "metadata": {},
          "execution_count": 32
        }
      ]
    }
  ]
}