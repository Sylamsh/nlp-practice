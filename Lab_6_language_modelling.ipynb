{
  "cells": [
    {
      "cell_type": "markdown",
      "metadata": {
        "id": "view-in-github",
        "colab_type": "text"
      },
      "source": [
        "<a href=\"https://colab.research.google.com/github/Sylamsh/nlp-practice/blob/main/Lab_6_language_modelling.ipynb\" target=\"_parent\"><img src=\"https://colab.research.google.com/assets/colab-badge.svg\" alt=\"Open In Colab\"/></a>"
      ]
    },
    {
      "cell_type": "code",
      "source": [
        "!pip install -U nltk"
      ],
      "metadata": {
        "id": "TAQqydbL065f",
        "outputId": "997b6aa4-a5e6-441c-d739-434716447bb4",
        "colab": {
          "base_uri": "https://localhost:8080/",
          "height": 452
        }
      },
      "execution_count": null,
      "outputs": [
        {
          "output_type": "stream",
          "name": "stdout",
          "text": [
            "Requirement already satisfied: nltk in /usr/local/lib/python3.7/dist-packages (3.2.5)\n",
            "Collecting nltk\n",
            "  Downloading nltk-3.7-py3-none-any.whl (1.5 MB)\n",
            "\u001b[K     |████████████████████████████████| 1.5 MB 12.1 MB/s \n",
            "\u001b[?25hCollecting regex>=2021.8.3\n",
            "  Downloading regex-2022.3.15-cp37-cp37m-manylinux_2_17_x86_64.manylinux2014_x86_64.whl (749 kB)\n",
            "\u001b[K     |████████████████████████████████| 749 kB 63.8 MB/s \n",
            "\u001b[?25hRequirement already satisfied: tqdm in /usr/local/lib/python3.7/dist-packages (from nltk) (4.64.0)\n",
            "Requirement already satisfied: click in /usr/local/lib/python3.7/dist-packages (from nltk) (7.1.2)\n",
            "Requirement already satisfied: joblib in /usr/local/lib/python3.7/dist-packages (from nltk) (1.1.0)\n",
            "Installing collected packages: regex, nltk\n",
            "  Attempting uninstall: regex\n",
            "    Found existing installation: regex 2019.12.20\n",
            "    Uninstalling regex-2019.12.20:\n",
            "      Successfully uninstalled regex-2019.12.20\n",
            "  Attempting uninstall: nltk\n",
            "    Found existing installation: nltk 3.2.5\n",
            "    Uninstalling nltk-3.2.5:\n",
            "      Successfully uninstalled nltk-3.2.5\n",
            "Successfully installed nltk-3.7 regex-2022.3.15\n"
          ]
        },
        {
          "output_type": "display_data",
          "data": {
            "application/vnd.colab-display-data+json": {
              "pip_warning": {
                "packages": [
                  "nltk",
                  "regex"
                ]
              }
            }
          },
          "metadata": {}
        }
      ]
    },
    {
      "cell_type": "code",
      "execution_count": null,
      "metadata": {
        "id": "zywacN8k9HUI",
        "outputId": "670b5acd-5823-430c-83a0-e84eb83b6aa4",
        "colab": {
          "base_uri": "https://localhost:8080/"
        }
      },
      "outputs": [
        {
          "output_type": "stream",
          "name": "stderr",
          "text": [
            "[nltk_data] Downloading package reuters to /root/nltk_data...\n",
            "[nltk_data]   Package reuters is already up-to-date!\n",
            "[nltk_data] Downloading package punkt to /root/nltk_data...\n",
            "[nltk_data]   Package punkt is already up-to-date!\n"
          ]
        },
        {
          "output_type": "execute_result",
          "data": {
            "text/plain": [
              "True"
            ]
          },
          "metadata": {},
          "execution_count": 1
        }
      ],
      "source": [
        "from nltk.corpus import reuters\n",
        "from nltk import bigrams, trigrams\n",
        "from collections import Counter, defaultdict\n",
        "import nltk\n",
        "nltk.download('reuters')\n",
        "nltk.download('punkt')"
      ]
    },
    {
      "cell_type": "code",
      "source": [
        "!unzip /root/nltk_data/corpora/reuters.zip -d /root/nltk_data/corpora"
      ],
      "metadata": {
        "id": "1aYPOCoT0EN3"
      },
      "execution_count": null,
      "outputs": []
    },
    {
      "cell_type": "markdown",
      "metadata": {
        "id": "jD6mnG6-9HUO"
      },
      "source": [
        "### Build a trigram language model using a basic MLE estimator"
      ]
    },
    {
      "cell_type": "code",
      "execution_count": null,
      "metadata": {
        "id": "rg7R069L9HUQ"
      },
      "outputs": [],
      "source": [
        "## code referred from https://nlpforhackers.io/language-models/ and https://www.analyticsvidhya.com/blog/2019/08/comprehensive-guide-language-model-nlp-python-code/\n",
        "\n",
        "## empty default dict dictionary to initialise the language model\n",
        "## the model is a keyed-value datastructure which is of the form model[key*][key] storing the default value of 0 \n",
        "\n",
        "trigram_mle_model = defaultdict(lambda: defaultdict(lambda: 0))\n",
        "\n",
        "## Count frequency of co-occurance  \n",
        "for sentence in reuters.sents():\n",
        "    for w1, w2, w3 in trigrams(sentence, pad_right=True, pad_left=True):\n",
        "        trigram_mle_model[(w1, w2)][w3] += 1\n",
        "\n",
        "# ## Transform the counts to probabilities\n",
        "for w1_w2 in trigram_mle_model:\n",
        "    total_count = float(sum(trigram_mle_model[w1_w2].values()))\n",
        "    for w3 in trigram_mle_model[w1_w2]:\n",
        "        trigram_mle_model[w1_w2][w3] /= total_count"
      ]
    },
    {
      "cell_type": "code",
      "execution_count": null,
      "metadata": {
        "id": "xLdc_M5U9HUR",
        "outputId": "1eb98633-6759-4335-e88a-efe44b9cea13",
        "colab": {
          "base_uri": "https://localhost:8080/"
        }
      },
      "outputs": [
        {
          "output_type": "execute_result",
          "data": {
            "text/plain": [
              "defaultdict(<function __main__.<lambda>.<locals>.<lambda>>,\n",
              "            {'also': 0.021739130434782608,\n",
              "             'ask': 0.06521739130434782,\n",
              "             'attempt': 0.021739130434782608,\n",
              "             'attend': 0.021739130434782608,\n",
              "             'be': 0.06521739130434782,\n",
              "             'decide': 0.021739130434782608,\n",
              "             'definitely': 0.021739130434782608,\n",
              "             'deliver': 0.043478260869565216,\n",
              "             'do': 0.021739130434782608,\n",
              "             'face': 0.021739130434782608,\n",
              "             'have': 0.021739130434782608,\n",
              "             'immediately': 0.043478260869565216,\n",
              "             'leave': 0.021739130434782608,\n",
              "             'listen': 0.021739130434782608,\n",
              "             'look': 0.021739130434782608,\n",
              "             'make': 0.043478260869565216,\n",
              "             'meet': 0.06521739130434782,\n",
              "             'not': 0.10869565217391304,\n",
              "             'press': 0.043478260869565216,\n",
              "             'propose': 0.08695652173913043,\n",
              "             'put': 0.021739130434782608,\n",
              "             'retire': 0.021739130434782608,\n",
              "             'seek': 0.043478260869565216,\n",
              "             'soon': 0.021739130434782608,\n",
              "             'succeed': 0.021739130434782608,\n",
              "             'try': 0.043478260869565216,\n",
              "             'visit': 0.021739130434782608})"
            ]
          },
          "metadata": {},
          "execution_count": 4
        }
      ],
      "source": [
        "## Retrieving the probabilities of every other word following the context word 'he will'\n",
        "trigram_mle_model[\"he\",\"will\"]"
      ]
    },
    {
      "cell_type": "code",
      "execution_count": null,
      "metadata": {
        "id": "Qx2aRBUe9HUR",
        "outputId": "1402b3c9-9a3d-44cc-8a57-76e45cf9d1d2",
        "colab": {
          "base_uri": "https://localhost:8080/"
        }
      },
      "outputs": [
        {
          "output_type": "execute_result",
          "data": {
            "text/plain": [
              "0.06521739130434782"
            ]
          },
          "metadata": {},
          "execution_count": 5
        }
      ],
      "source": [
        "## Retrieving the probabilities of the word 'ask' following the context word 'he will'\n",
        "trigram_mle_model[\"he\",\"will\"]['ask']"
      ]
    },
    {
      "cell_type": "markdown",
      "metadata": {
        "id": "R7m2JLJ89HUS"
      },
      "source": [
        "### Todo #1: Build a bigram language model using a basic MLE estimator"
      ]
    },
    {
      "cell_type": "code",
      "execution_count": null,
      "metadata": {
        "id": "btVOBakA9HUT"
      },
      "outputs": [],
      "source": [
        "bigram_mle_model = defaultdict(lambda: defaultdict(lambda: 0))\n",
        "\n",
        "for sentence in reuters.sents():\n",
        "    for w1, w2 in bigrams(sentence, pad_right=True, pad_left=True):\n",
        "        bigram_mle_model[w1][w2] += 1\n",
        "\n",
        "for w1 in bigram_mle_model:\n",
        "    total_count = float(sum(bigram_mle_model[w1].values()))\n",
        "    for w2 in bigram_mle_model[w1]:\n",
        "        bigram_mle_model[w1][w2] /= total_count"
      ]
    },
    {
      "cell_type": "code",
      "execution_count": null,
      "metadata": {
        "id": "ElRr-zOO9HUU",
        "outputId": "d46ce0c1-bb7c-4bf2-cb28-5119c755cb7d",
        "colab": {
          "base_uri": "https://localhost:8080/"
        }
      },
      "outputs": [
        {
          "output_type": "stream",
          "name": "stdout",
          "text": [
            "trigram mle score: 0.06521739130434782\n",
            "------------------------------------------------------------\n",
            "bigram mle score: 0.012921348314606741\n"
          ]
        }
      ],
      "source": [
        "print(f\"trigram mle score: {trigram_mle_model['he','will']['ask']}\")\n",
        "print(\"------------------------------------------------------------\")\n",
        "print(f\"bigram mle score: {bigram_mle_model['he']['will']}\")\n",
        "\n"
      ]
    },
    {
      "cell_type": "markdown",
      "metadata": {
        "id": "Y5kO1_fF9HUU"
      },
      "source": [
        "### Language model estimation using nltk library"
      ]
    },
    {
      "cell_type": "code",
      "execution_count": null,
      "metadata": {
        "id": "aJ__oHYD9HUV",
        "outputId": "3e4433e4-5252-4133-abe6-00220f0000ce",
        "colab": {
          "base_uri": "https://localhost:8080/"
        }
      },
      "outputs": [
        {
          "output_type": "stream",
          "name": "stderr",
          "text": [
            "[nltk_data] Downloading package punkt to /root/nltk_data...\n",
            "[nltk_data]   Package punkt is already up-to-date!\n"
          ]
        },
        {
          "output_type": "execute_result",
          "data": {
            "text/plain": [
              "True"
            ]
          },
          "metadata": {},
          "execution_count": 8
        }
      ],
      "source": [
        "from nltk.lm import MLE, Laplace, KneserNeyInterpolated\n",
        "from nltk.util import everygrams\n",
        "\n",
        "import nltk\n",
        "nltk.download(\"punkt\")"
      ]
    },
    {
      "cell_type": "code",
      "execution_count": null,
      "metadata": {
        "id": "KU7D05DN9HUW"
      },
      "outputs": [],
      "source": [
        "## MLE estimator\n",
        "## CODE referred from https://github.com/murthyrudra/IIITL_NLP_Lab/blob/main/Lab05/Lab05.ipynb\n",
        "# https://www.nltk.org/api/nltk.lm.html\n",
        "def build_mle_estimator(n):\n",
        "    texts = [w.lower() for w in reuters.words()]\n",
        "    \n",
        "    # generate ngrams\n",
        "    ngrams = list(everygrams(texts, max_len=n))\n",
        "\n",
        "    # build ngram language models\n",
        "    lm = MLE(n)\n",
        "    lm.fit([ngrams], vocabulary_text=texts)\n",
        "    print(lm.vocab)\n",
        "    \n",
        "    return lm"
      ]
    },
    {
      "cell_type": "code",
      "execution_count": null,
      "metadata": {
        "id": "SYO5Lk5R9HUW",
        "outputId": "7ec407ec-465f-40aa-ea52-e29833c0ee89",
        "colab": {
          "base_uri": "https://localhost:8080/"
        }
      },
      "outputs": [
        {
          "output_type": "stream",
          "name": "stdout",
          "text": [
            "<Vocabulary with cutoff=1 unk_label='<UNK>' and 31079 items>\n"
          ]
        }
      ],
      "source": [
        "## the bigram MLE Language model\n",
        "lm_mle_bigram = build_mle_estimator(2)"
      ]
    },
    {
      "cell_type": "code",
      "execution_count": null,
      "metadata": {
        "id": "zJ4rHJKn9HUX"
      },
      "outputs": [],
      "source": [
        "## sample texts for testing the conditional probability of the next word give the context word/words\n",
        "def print_lm_scores(lm, title=\"\"):\n",
        "    print(\"------------------ \"+ title + \" ------------------\")\n",
        "    print(f\"Probability of 'he' followed by 'will': {lm.score(word='will', context=['he']):.5f}\")\n",
        "    print(f\"Probability of 'america' followed by 'first': {lm.score(word='first', context=['america']):.5f}\")\n",
        "\n",
        "    print(f\"Probability of 'you' followed by 'thank': {lm.score(word='thank', context=['you']):.5f}\")\n",
        "    print(f\"Probability of 'thank' followed by 'you': {lm.score(word='you', context=['thank']):.5f}\")\n"
      ]
    },
    {
      "cell_type": "code",
      "execution_count": null,
      "metadata": {
        "id": "Knh-SSWt9HUX",
        "outputId": "69bbc72b-1dc3-44c3-aa3f-a909ddf5e61b",
        "colab": {
          "base_uri": "https://localhost:8080/"
        }
      },
      "outputs": [
        {
          "output_type": "stream",
          "name": "stdout",
          "text": [
            "------------------ MLE ------------------\n",
            "Probability of 'he' followed by 'will': 0.01055\n",
            "Probability of 'america' followed by 'first': 0.00858\n",
            "Probability of 'you' followed by 'thank': 0.00000\n",
            "Probability of 'thank' followed by 'you': 0.00000\n"
          ]
        }
      ],
      "source": [
        "print_lm_scores(lm_mle_bigram, title=\"MLE\")"
      ]
    },
    {
      "cell_type": "markdown",
      "metadata": {
        "id": "rCD8Knnm9HUX"
      },
      "source": [
        "#### TODO-2: Build a laplace estimator\n",
        "\n",
        "Refer [this](https://www.nltk.org/api/nltk.lm.html)"
      ]
    },
    {
      "cell_type": "code",
      "execution_count": null,
      "metadata": {
        "id": "DFr6B37N9HUY"
      },
      "outputs": [],
      "source": [
        "\n",
        "def build_laplace_estimator(n):\n",
        "    texts = [w.lower() for w in reuters.words()]\n",
        "    \n",
        "    # generate ngrams\n",
        "    ngrams = list(everygrams(texts, max_len=n))\n",
        "\n",
        "    # build ngram language models\n",
        "    lm = Laplace(n)\n",
        "    lm.fit([ngrams], vocabulary_text=texts)\n",
        "    print(lm.vocab)\n",
        "    return lm"
      ]
    },
    {
      "cell_type": "code",
      "execution_count": null,
      "metadata": {
        "id": "A_Xpsmpi9HUY",
        "outputId": "8929c010-d175-4d4d-8f7e-5891c336f94b",
        "colab": {
          "base_uri": "https://localhost:8080/"
        }
      },
      "outputs": [
        {
          "output_type": "stream",
          "name": "stdout",
          "text": [
            "<Vocabulary with cutoff=1 unk_label='<UNK>' and 31079 items>\n"
          ]
        }
      ],
      "source": [
        "## the bigram Laplace Language model\n",
        "lm_laplace_bigram = build_laplace_estimator(2)"
      ]
    },
    {
      "cell_type": "code",
      "execution_count": null,
      "metadata": {
        "id": "c81cq0rL9HUY",
        "outputId": "e1055685-c300-4f47-adca-60f5e9c98a31",
        "colab": {
          "base_uri": "https://localhost:8080/"
        }
      },
      "outputs": [
        {
          "output_type": "stream",
          "name": "stdout",
          "text": [
            "------------------ MLE ------------------\n",
            "Probability of 'he' followed by 'will': 0.01055\n",
            "Probability of 'america' followed by 'first': 0.00858\n",
            "Probability of 'you' followed by 'thank': 0.00000\n",
            "Probability of 'thank' followed by 'you': 0.00000\n",
            "------------------ Laplace ------------------\n",
            "Probability of 'he' followed by 'will': 0.00154\n",
            "Probability of 'america' followed by 'first': 0.00010\n",
            "Probability of 'you' followed by 'thank': 0.00003\n",
            "Probability of 'thank' followed by 'you': 0.00003\n"
          ]
        }
      ],
      "source": [
        "## compare the scores of the bigram MLE and bigram laplace\n",
        "print_lm_scores(lm_mle_bigram, title=\"MLE\")\n",
        "print_lm_scores(lm_laplace_bigram, title=\"Laplace\")"
      ]
    },
    {
      "cell_type": "code",
      "execution_count": null,
      "metadata": {
        "id": "vO8hc_L79HUZ",
        "outputId": "ee75f314-1ddc-4528-8c81-93abeb823e19",
        "colab": {
          "base_uri": "https://localhost:8080/"
        }
      },
      "outputs": [
        {
          "output_type": "stream",
          "name": "stdout",
          "text": [
            "<Vocabulary with cutoff=1 unk_label='<UNK>' and 31079 items>\n",
            "------------------ Laplace ------------------\n",
            "Probability of 'he' followed by 'will': 0.00154\n",
            "Probability of 'america' followed by 'first': 0.00010\n",
            "Probability of 'you' followed by 'thank': 0.00003\n",
            "Probability of 'thank' followed by 'you': 0.00003\n"
          ]
        }
      ],
      "source": [
        "lm_lap_tri = build_laplace_estimator(3)\n",
        "print_lm_scores(lm_lap_tri, title=\"Laplace\")"
      ]
    },
    {
      "cell_type": "markdown",
      "metadata": {
        "id": "24l8fc_n9HUZ"
      },
      "source": [
        "#### TODO-3: Build a interpolated kneyserney estimator\n",
        "\n",
        "Refer [this](https://www.nltk.org/api/nltk.lm.html)"
      ]
    },
    {
      "cell_type": "code",
      "execution_count": null,
      "metadata": {
        "id": "ciUpq83Q9HUZ"
      },
      "outputs": [],
      "source": [
        "def build_kneyser_estimator(n):\n",
        "    texts = [w.lower() for w in reuters.words()]\n",
        "    \n",
        "    # generate ngrams\n",
        "    ngrams = list(everygrams(texts, max_len=n))\n",
        "\n",
        "    # build ngram language models\n",
        "    lm = KneserNeyInterpolated(n)\n",
        "    lm.fit([ngrams], vocabulary_text=texts)\n",
        "    print(lm.vocab)\n",
        "    return lm"
      ]
    },
    {
      "cell_type": "code",
      "execution_count": null,
      "metadata": {
        "id": "tf7FBaCc9HUa",
        "outputId": "3dcea76c-4c51-4c0e-b303-f6cef9a635f6",
        "colab": {
          "base_uri": "https://localhost:8080/"
        }
      },
      "outputs": [
        {
          "output_type": "stream",
          "name": "stdout",
          "text": [
            "<Vocabulary with cutoff=1 unk_label='<UNK>' and 31079 items>\n",
            "<Vocabulary with cutoff=1 unk_label='<UNK>' and 31079 items>\n"
          ]
        }
      ],
      "source": [
        "lm_kn_bi = build_kneyser_estimator(2)\n",
        "lm_kn_tri = build_kneyser_estimator(3)"
      ]
    },
    {
      "cell_type": "code",
      "execution_count": null,
      "metadata": {
        "id": "qv7Gw2C29HUa",
        "outputId": "6986f6ee-fd77-42c6-f113-cb3f08f40940",
        "colab": {
          "base_uri": "https://localhost:8080/"
        }
      },
      "outputs": [
        {
          "output_type": "stream",
          "name": "stdout",
          "text": [
            "------------------ KneserNeyInterpolated_bi ------------------\n",
            "Probability of 'he' followed by 'will': 0.01055\n",
            "Probability of 'america' followed by 'first': 0.00818\n",
            "Probability of 'you' followed by 'thank': 0.00000\n",
            "Probability of 'thank' followed by 'you': 0.00017\n",
            "------------------ KneserNeyInterpolated_tri ------------------\n",
            "Probability of 'he' followed by 'will': 0.01706\n",
            "Probability of 'america' followed by 'first': 0.01488\n",
            "Probability of 'you' followed by 'thank': 0.00000\n",
            "Probability of 'thank' followed by 'you': 0.00017\n"
          ]
        }
      ],
      "source": [
        "print_lm_scores(lm_kn_bi, title=\"KneserNeyInterpolated_bi\")\n",
        "print_lm_scores(lm_kn_tri, title=\"KneserNeyInterpolated_tri\")"
      ]
    },
    {
      "cell_type": "code",
      "execution_count": null,
      "metadata": {
        "id": "IZQaVxCd9HUa"
      },
      "outputs": [],
      "source": [
        "##### You can generate words from the trained Language models using generate() in nltk\n",
        "##### Refer https://www.nltk.org/api/nltk.lm.html and generate words using lm.generate() for all the language models\n",
        "\n",
        "#### Try to generate the next 10 words given the context/seed word ['he','will'] for all the models"
      ]
    },
    {
      "cell_type": "code",
      "source": [
        "def generate_words(lm, num_words, title):\n",
        "  print(\"------------------ \"+ title + \" ------------------\")\n",
        "  words = ['he','will']\n",
        "  for i in range (0, num_words):\n",
        "    temp = lm.generate(text_seed=[words[i], words[i+1]])\n",
        "    words.append(temp)\n",
        "  print(words)"
      ],
      "metadata": {
        "id": "xXpRj-4t6tjL"
      },
      "execution_count": null,
      "outputs": []
    },
    {
      "cell_type": "code",
      "source": [
        "generate_words(lm_mle_bigram, 10, title=\"MLE_bigram\")\n",
        "generate_words(lm_laplace_bigram, 10, title=\"Laplace_bigram\")\n",
        "generate_words(lm_lap_tri, 10, title=\"Laplace_trigram\")"
      ],
      "metadata": {
        "id": "8mncgEgn8OpG",
        "outputId": "603868fe-73cd-480a-ce48-d35b842cc691",
        "colab": {
          "base_uri": "https://localhost:8080/"
        }
      },
      "execution_count": null,
      "outputs": [
        {
          "output_type": "stream",
          "name": "stdout",
          "text": [
            "------------------ MLE_bigram ------------------\n",
            "['he', 'will', 'grow', 'by', 'half', 'of', '2', '.', '47', 'cts', 'net', 'shr']\n",
            "------------------ Laplace_bigram ------------------\n",
            "['he', 'will', 'go', 'mainly', 'to', 'look', 'forward', 'to', '4', 'mln', 'vs', '92']\n",
            "------------------ Laplace_trigram ------------------\n",
            "['he', 'will', 'propose', 'a', 'formula', 'linked', 'to', 'production', 'quickly', 'through', 'developments', 'such']\n"
          ]
        }
      ]
    },
    {
      "cell_type": "code",
      "source": [
        "# takes too much time\n",
        "generate_words(lm_kn_bi, 10, title=\"KN_bigram\")\n",
        "generate_words(lm_kn_tri, 10, title=\"KN_trigram\")"
      ],
      "metadata": {
        "id": "UZ_AXD4qCl8C"
      },
      "execution_count": null,
      "outputs": []
    },
    {
      "cell_type": "markdown",
      "source": [
        "**Submit the colab notebook link in this [form](https://forms.gle/1f5zLKen8s3PaivK6) on or before 19/04/2022**"
      ],
      "metadata": {
        "id": "pM7dD862-9LP"
      }
    }
  ],
  "metadata": {
    "interpreter": {
      "hash": "524319ab1ba0d106b8ec4e3c5857ec8d9c75be8ce33193b53239dc1ea7a41145"
    },
    "kernelspec": {
      "display_name": "Python 3.8.10 64-bit ('py3810': venv)",
      "language": "python",
      "name": "python3"
    },
    "language_info": {
      "codemirror_mode": {
        "name": "ipython",
        "version": 3
      },
      "file_extension": ".py",
      "mimetype": "text/x-python",
      "name": "python",
      "nbconvert_exporter": "python",
      "pygments_lexer": "ipython3",
      "version": "3.8.10"
    },
    "orig_nbformat": 4,
    "colab": {
      "name": "Lab_6_language_modelling.ipynb",
      "provenance": [],
      "collapsed_sections": [],
      "include_colab_link": true
    }
  },
  "nbformat": 4,
  "nbformat_minor": 0
}